{
 "cells": [
  {
   "cell_type": "code",
   "execution_count": 65,
   "metadata": {},
   "outputs": [
    {
     "name": "stdout",
     "output_type": "stream",
     "text": [
      "[1, 1, 1, 1, 1, 1, 1, 1, 1, 1, 1, 1, 0.3333333333333333, 0.3333333333333333, 0.3333333333333333, 0.3333333333333333]\n",
      "[5, 5, 5, 5, 5, 5, 5, 5, 5, 5, 5, 5, 10, 10, 10, 10]\n",
      "[2, 2, 2, 2, 2, 2, 2, 2, 2, 2, 2, 2, 5, 5, 5, 5]\n",
      "\n",
      "[43, 25, 39, 11, 4, 26, 57, 35, 37, 14, 59, 39, 37, 21, 10, 19]\n",
      "[0.5, 0.5, 0.5, 0.5, 0.5, 0.5, 0.5, 0.5, 0.5, 0.5, 0.5, 0.5, 1, 1, 1, 1]\n",
      "0.002994537353515625\n"
     ]
    }
   ],
   "source": [
    "import time\n",
    "t=time.time()\n",
    "import random\n",
    "\n",
    "blockzone=[]\n",
    "for i in range(4):\n",
    "    blockzone.append((random.randint(0,3)==2)*random.randint(0,4))\n",
    "blockzone\n",
    "\n",
    "zone=[]\n",
    "for i in range(16):\n",
    "    zone.append(random.randint(0,4)+(i>12)*(random.randint(0,5)))\n",
    "\n",
    "sat =[[1,10,],[1,4],[7,10],[7,4],[0,9],[0,3],[0,6],[9,3],[3,7],[6,9]\n",
    "     ,[0,10],[0,7],[9,7],[9,4],[6,4],[6,1],[3,1],[3,10],[12,1],[13,10]\n",
    "     ,[14,11],[14,7],[15,0],[15,4]]\n",
    "\n",
    "for i in range(5,10):\n",
    "    sat.append([12,i])\n",
    "for i in range(2,7):\n",
    "    sat.append([13,i])\n",
    "for i in range(0,4):\n",
    "    sat.append([14,i])\n",
    "for i in range(8,12):\n",
    "    sat.append([15,i])\n",
    "\n",
    "contflow=[]\n",
    "for i in range(16):\n",
    "    contflow.append(5+(i>=12)*5)\n",
    "changeflow=[]\n",
    "for i in range(16):\n",
    "    changeflow.append(2+(i>=12)*3)\n",
    "    \n",
    "weights=[]\n",
    "for i in range(16):\n",
    "    weights.append(1)\n",
    "for i in range(12,16):\n",
    "    weights[i]/=3\n",
    "    \n",
    "times=[]\n",
    "for i in range(16):\n",
    "    times.append(random.randint(0,60))\n",
    "\n",
    "timeweights=[]\n",
    "for i in range(16):\n",
    "    timeweights.append(1)\n",
    "    \n",
    "for i in range(12):\n",
    "    timeweights[i]/=2\n",
    "\n",
    "print(weights)\n",
    "print(contflow)\n",
    "print(changeflow)\n",
    "print()\n",
    "print(times)\n",
    "print(timeweights)\n",
    "print(time.time()-t)"
   ]
  },
  {
   "cell_type": "code",
   "execution_count": 66,
   "metadata": {},
   "outputs": [],
   "source": [
    "def possiblemask(mask):\n",
    "    for i in sat:\n",
    "        if not ((mask[i[0]]==0) or (mask[i[1]]==0)):\n",
    "            return 0\n",
    "    return 1"
   ]
  },
  {
   "cell_type": "code",
   "execution_count": 67,
   "metadata": {},
   "outputs": [],
   "source": [
    "def genmask():\n",
    "    a=0\n",
    "    while(not a): \n",
    "        mask=[]\n",
    "        for i in range(16):\n",
    "            mask.append(random.randint(0,1))\n",
    "        a=possiblemask(mask)\n",
    "    return mask\n",
    "prevmask=genmask()"
   ]
  },
  {
   "cell_type": "code",
   "execution_count": 68,
   "metadata": {},
   "outputs": [],
   "source": [
    "def tomask(a):\n",
    "    i=0\n",
    "    mask=[]\n",
    "    for i in range(16):\n",
    "        mask.append(a%2)\n",
    "        a//=2\n",
    "    return mask"
   ]
  },
  {
   "cell_type": "code",
   "execution_count": 69,
   "metadata": {},
   "outputs": [],
   "source": [
    "def greed(mask,zone):\n",
    "    ans=0\n",
    "    for i in range(16):\n",
    "        if(prevmask[i]==mask[i]):\n",
    "            ans+=max(zone[i],contflow[i])*mask[i]*weights[i]*(((times[i]*timeweights[i])/30)**2)\n",
    "        else:\n",
    "            ans+=max(zone[i],changeflow[i])*mask[i]*weights[i]*(((times[i]*timeweights[i])/30)**2)\n",
    "    return ans"
   ]
  },
  {
   "cell_type": "code",
   "execution_count": 70,
   "metadata": {},
   "outputs": [],
   "source": [
    "def noblock(mask,blockzone):\n",
    "    blockmask=[]\n",
    "    for i in range(12):\n",
    "        blockmask.append(0)\n",
    "    for j in range(0,4):\n",
    "        if(blockzone[j]):\n",
    "            for i in range(j*3,3+j*3):\n",
    "                blockmask[i]=1\n",
    "            for i in range(j*3+3,j*3+11,4):\n",
    "                blockmask[i%12]=1\n",
    "    for i in range(12):\n",
    "        if(mask[i] and blockmask[i]):\n",
    "            return 0\n",
    "    return 1"
   ]
  },
  {
   "cell_type": "code",
   "execution_count": 71,
   "metadata": {
    "scrolled": true
   },
   "outputs": [
    {
     "name": "stdout",
     "output_type": "stream",
     "text": [
      "[43, 25, 39, 11, 4, 26, 57, 35, 37, 14, 59, 39, 37, 21, 10, 19]\n",
      "[0.5, 0.5, 0.5, 0.5, 0.5, 0.5, 0.5, 0.5, 0.5, 0.5, 0.5, 0.5, 1, 1, 1, 1]\n",
      "\n",
      "[1, 1, 4, 2, 3, 4, 2, 4, 4, 4, 3, 2, 0, 3, 4, 8]\n",
      "[1, 1, 1, 1, 1, 1, 1, 1, 1, 1, 1, 1, 0.3333333333333333, 0.3333333333333333, 0.3333333333333333, 0.3333333333333333]\n",
      "\n",
      "[1, 0, 0, 2]\n",
      "[1, 0, 0, 0, 0, 1, 0, 0, 1, 0, 0, 1, 0, 0, 0, 0]\n",
      "[[0, 0, 0, 0, 0, 1, 1, 0, 1, 0, 0, 0, 0, 0, 1, 0], 4.830462962962963]\n",
      "3.1727097034454346\n",
      "2.436627149581909\n"
     ]
    }
   ],
   "source": [
    "pt=time.time()\n",
    "\n",
    "def greedchoose(masksize, zone):\n",
    "    maxv=0\n",
    "    maxmask=[]\n",
    "    for i in range(1 << masksize):\n",
    "        mask = tomask(i+1)\n",
    "        a = greed(mask, zone) * possiblemask(mask)*noblock(mask,blockzone)\n",
    "        if(maxv < a):\n",
    "            maxv = a\n",
    "            maxmask = mask\n",
    "    return [maxmask, maxv]\n",
    "\n",
    "print(times)\n",
    "print(timeweights)\n",
    "print()\n",
    "print(zone)\n",
    "print(weights)\n",
    "print()\n",
    "print(blockzone)\n",
    "print(prevmask)\n",
    "print(greedchoose(16, zone))\n",
    "print(time.time()-t)\n",
    "print(time.time()-pt)"
   ]
  },
  {
   "cell_type": "code",
   "execution_count": 72,
   "metadata": {},
   "outputs": [
    {
     "data": {
      "text/plain": [
       "1"
      ]
     },
     "execution_count": 72,
     "metadata": {},
     "output_type": "execute_result"
    }
   ],
   "source": [
    "mask=[]\n",
    "for i in range(16):\n",
    "    mask.append(0)\n",
    "noblock(mask,blockzone)"
   ]
  },
  {
   "cell_type": "code",
   "execution_count": null,
   "metadata": {},
   "outputs": [],
   "source": []
  }
 ],
 "metadata": {
  "kernelspec": {
   "display_name": "Python 3",
   "language": "python",
   "name": "python3"
  },
  "language_info": {
   "codemirror_mode": {
    "name": "ipython",
    "version": 3
   },
   "file_extension": ".py",
   "mimetype": "text/x-python",
   "name": "python",
   "nbconvert_exporter": "python",
   "pygments_lexer": "ipython3",
   "version": "3.8.5"
  }
 },
 "nbformat": 4,
 "nbformat_minor": 4
}
