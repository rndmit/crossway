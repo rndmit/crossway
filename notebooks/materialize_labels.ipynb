{
 "cells": [
  {
   "cell_type": "code",
   "execution_count": 14,
   "metadata": {},
   "outputs": [
    {
     "ename": "ModuleNotFoundError",
     "evalue": "No module named 'tensorflow'",
     "output_type": "error",
     "traceback": [
      "\u001b[1;31m---------------------------------------------------------------------------\u001b[0m",
      "\u001b[1;31mModuleNotFoundError\u001b[0m                       Traceback (most recent call last)",
      "\u001b[1;32m<ipython-input-14-c1341af6e998>\u001b[0m in \u001b[0;36m<module>\u001b[1;34m\u001b[0m\n\u001b[0;32m      6\u001b[0m \u001b[1;32mimport\u001b[0m \u001b[0mos\u001b[0m\u001b[1;33m\u001b[0m\u001b[1;33m\u001b[0m\u001b[0m\n\u001b[0;32m      7\u001b[0m \u001b[1;32mimport\u001b[0m \u001b[0msys\u001b[0m\u001b[1;33m\u001b[0m\u001b[1;33m\u001b[0m\u001b[0m\n\u001b[1;32m----> 8\u001b[1;33m \u001b[1;32mimport\u001b[0m \u001b[0mtensorflow\u001b[0m \u001b[1;32mas\u001b[0m \u001b[0mtf\u001b[0m\u001b[1;33m\u001b[0m\u001b[1;33m\u001b[0m\u001b[0m\n\u001b[0m\u001b[0;32m      9\u001b[0m \u001b[1;32mimport\u001b[0m \u001b[0myaml\u001b[0m\u001b[1;33m\u001b[0m\u001b[1;33m\u001b[0m\u001b[0m\n",
      "\u001b[1;31mModuleNotFoundError\u001b[0m: No module named 'tensorflow'"
     ]
    }
   ],
   "source": [
    "import json\n",
    "from PIL import Image, ImageDraw\n",
    "import io\n",
    "import math\n",
    "import numpy as np\n",
    "import os\n",
    "import sys\n",
    "import tensorflow as tf\n",
    "import yaml"
   ]
  },
  {
   "cell_type": "code",
   "execution_count": 3,
   "metadata": {},
   "outputs": [],
   "source": [
    "with open('./sample_data/labels.json') as json_file:\n",
    "    labels = json.load(json_file)"
   ]
  },
  {
   "cell_type": "code",
   "execution_count": 7,
   "metadata": {},
   "outputs": [],
   "source": [
    "def xys_to_bitmap(xys, height, width, rescale=1.0):\n",
    "    bitmap = np.zeros((int(height*rescale), int(width*rescale), 1), dtype=np.float32)\n",
    "    for x, y in xys:\n",
    "        bitmap[int(y*rescale), int(x*rescale), 0] = 1.0\n",
    "    return bitmap"
   ]
  },
  {
   "cell_type": "code",
   "execution_count": 8,
   "metadata": {},
   "outputs": [],
   "source": [
    "def get_point_from_bbox(x,y,width,height):\n",
    "    return (x+width/2,y+height/2)"
   ]
  },
  {
   "cell_type": "code",
   "execution_count": 12,
   "metadata": {},
   "outputs": [],
   "source": [
    "def get_points(flabels, cl=\"human\"):\n",
    "    labels = []\n",
    "    for o in flabels[\"Label\"][\"objects\"]:\n",
    "        if o[\"value\"] != cl:\n",
    "            continue\n",
    "        bbox = o[\"bbox\"]\n",
    "        labels.append(tuple(get_point_from_bbox(bbox['left'], bbox['top'], bbox['width'], bbox['height'])))\n",
    "    return labels"
   ]
  },
  {
   "cell_type": "code",
   "execution_count": 10,
   "metadata": {},
   "outputs": [],
   "source": [
    "def bitmap_to_single_channel_pil_image(bitmap):\n",
    "    h, w, c = bitmap.shape\n",
    "    assert c == 1\n",
    "    bitmap = np.uint8(bitmap[:,:,0] * 255)\n",
    "    return Image.fromarray(bitmap, mode='L')"
   ]
  },
  {
   "cell_type": "code",
   "execution_count": 17,
   "metadata": {},
   "outputs": [],
   "source": [
    "for i, frame in enumerate(labels):\n",
    "    xys = get_points(frame, \"human\")\n",
    "    bitmap = xys_to_bitmap(xys, 720, 1280)\n",
    "    single_chan_img = bitmap_to_single_channel_pil_image(bitmap)\n",
    "    single_chan_img.save(\"./sample_data/testing/\"+frame[\"ID\"]+\".png\")"
   ]
  },
  {
   "cell_type": "code",
   "execution_count": null,
   "metadata": {},
   "outputs": [],
   "source": []
  }
 ],
 "metadata": {
  "kernelspec": {
   "display_name": "Python 3",
   "language": "python",
   "name": "python3"
  },
  "language_info": {
   "codemirror_mode": {
    "name": "ipython",
    "version": 3
   },
   "file_extension": ".py",
   "mimetype": "text/x-python",
   "name": "python",
   "nbconvert_exporter": "python",
   "pygments_lexer": "ipython3",
   "version": "3.8.5"
  }
 },
 "nbformat": 4,
 "nbformat_minor": 4
}
