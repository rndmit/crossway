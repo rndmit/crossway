{
 "cells": [
  {
   "cell_type": "code",
   "execution_count": 116,
   "metadata": {},
   "outputs": [],
   "source": [
    "from PIL import Image,ImageDraw\n",
    "import numpy as np\n",
    "img = Image.open(\"abbabaab.png\")\n",
    "image=img.load()\n",
    "width = img.size[0]\n",
    "draw = ImageDraw.Draw(img)\n",
    "height = img.size[1]"
   ]
  },
  {
   "cell_type": "code",
   "execution_count": 117,
   "metadata": {},
   "outputs": [],
   "source": [
    "for i in range(width):\n",
    "    for j in range(height):\n",
    "        a=image[i,j][1]\n",
    "        draw.point((i,j),(0,a*(a>127),0))"
   ]
  },
  {
   "cell_type": "code",
   "execution_count": 92,
   "metadata": {
    "scrolled": true
   },
   "outputs": [],
   "source": [
    "def dfs(i,j,w,h):\n",
    "    global used\n",
    "    q=[]\n",
    "    q.append([i,j])\n",
    "    maxx=i\n",
    "    minx=i\n",
    "    maxy=j\n",
    "    miny=j\n",
    "    while q:\n",
    "        vx=q[0][0]\n",
    "        vy=q[0][1]\n",
    "        #print(q)\n",
    "        q.pop(0)\n",
    "        used[vx][vy]=1\n",
    "        a=vx-1\n",
    "        b=vy\n",
    "        if(a>=0 and a <w and b>=0 and b<h):\n",
    "            if not used [a][b] and image[a,b][1]:\n",
    "                q.append([a,b])\n",
    "                maxx=max(maxx,a)\n",
    "                minx=min(minx,a)\n",
    "                maxy=max(maxy,b)\n",
    "                miny=min(miny,b)\n",
    "                used[a][b]=1\n",
    "        a=vx+1\n",
    "        b=vy\n",
    "        if(a>=0 and a <w and b>=0 and b<h):\n",
    "            if not used [a][b] and image[a,b][1]:\n",
    "                q.append([a,b])\n",
    "                maxx=max(maxx,a)\n",
    "                minx=min(minx,a)\n",
    "                maxy=max(maxy,b)\n",
    "                miny=min(miny,b)\n",
    "                used[a][b]=1\n",
    "        a=vx\n",
    "        b=vy-1\n",
    "        if(a>=0 and a <w and b>=0 and b<h):\n",
    "            if not used [a][b] and image[a,b][1]:\n",
    "                q.append([a,b])\n",
    "                maxx=max(maxx,a)\n",
    "                minx=min(minx,a)\n",
    "                maxy=max(maxy,b)\n",
    "                miny=min(miny,b)\n",
    "                used[a][b]=1\n",
    "        a=vx\n",
    "        b=vy+1\n",
    "        if(a>=0 and a <w and b>=0 and b<h):\n",
    "            if not used [a][b] and image[a,b][1]:\n",
    "                q.append([a,b])\n",
    "                maxx=max(maxx,a)\n",
    "                minx=min(minx,a)\n",
    "                maxy=max(maxy,b)\n",
    "                miny=min(miny,b)\n",
    "                used[a][b]=1\n",
    "    return [[minx,miny],[maxx,maxy]]\n",
    "        \n",
    "    \n"
   ]
  },
  {
   "cell_type": "code",
   "execution_count": 118,
   "metadata": {},
   "outputs": [
    {
     "name": "stdout",
     "output_type": "stream",
     "text": [
      "[[79, 224], [96, 240]]\n",
      "[[237, 131], [252, 145]]\n",
      "[[255, 70], [274, 86]]\n",
      "[[257, 98], [272, 114]]\n",
      "[[290, 38], [306, 45]]\n",
      "[[301, 32], [308, 36]]\n",
      "[[312, 34], [313, 34]]\n",
      "[[313, 0], [342, 37]]\n",
      "[[357, 89], [372, 104]]\n",
      "[[358, 122], [373, 137]]\n",
      "[[362, 39], [378, 52]]\n",
      "[[363, 63], [379, 78]]\n",
      "[[371, 19], [388, 34]]\n",
      "[[372, 1], [380, 8]]\n",
      "[[603, 231], [636, 250]]\n"
     ]
    }
   ],
   "source": [
    "used=np.zeros((width,height))\n",
    "ans=[]\n",
    "for i in range(width):\n",
    "    for j in range(height):\n",
    "        if (not used[i][j]) and image[i,j][1]:\n",
    "            a=dfs(i,j,width,height)\n",
    "            ans.append(a)\n",
    "            #draw.rectangle(((a[0][0],a[0][1]),(a[1][0],a[1][1])))\n",
    "            print(a)\n",
    "for a in ans:\n",
    "    draw.rectangle(((a[0][0],a[0][1]),(a[1][0],a[1][1])))\n",
    "\n",
    "            \n"
   ]
  },
  {
   "cell_type": "code",
   "execution_count": 101,
   "metadata": {},
   "outputs": [
    {
     "name": "stdout",
     "output_type": "stream",
     "text": [
      "[[100, 100], [150, 200]]\n",
      "100 100\n"
     ]
    }
   ],
   "source": [
    "used=np.zeros((width,height))\n",
    "for i in range(width):\n",
    "    for j in range(height):\n",
    "        if (not used[i][j]) and image[i,j][1]:\n",
    "            print(dfs(i,j,width,height))\n",
    "            print(i,j)"
   ]
  },
  {
   "cell_type": "code",
   "execution_count": 119,
   "metadata": {},
   "outputs": [
    {
     "data": {
      "image/png": "[encoded data removed]",
      "text/plain": [
       "<PIL.PngImagePlugin.PngImageFile image mode=RGB size=640x360 at 0x228D87B8340>"
      ]
     },
     "execution_count": 119,
     "metadata": {},
     "output_type": "execute_result"
    }
   ],
   "source": [
    "img"
   ]
  },
  {
   "cell_type": "code",
   "execution_count": 50,
   "metadata": {},
   "outputs": [],
   "source": [
    "draw.rectangle(((0,0),(10,100)))"
   ]
  },
  {
   "cell_type": "code",
   "execution_count": 96,
   "metadata": {},
   "outputs": [
    {
     "data": {
      "image/png": "[encoded data removed]",
      "text/plain": [
       "<PIL.PngImagePlugin.PngImageFile image mode=RGB size=640x360 at 0x228D8212E50>"
      ]
     },
     "execution_count": 96,
     "metadata": {},
     "output_type": "execute_result"
    }
   ],
   "source": [
    "for i in range(100):\n",
    "    for j in range(100):\n",
    "        draw.point((i,j),(0,100,0))\n",
    "img"
   ]
  },
  {
   "cell_type": "code",
   "execution_count": 113,
   "metadata": {},
   "outputs": [
    {
     "data": {
      "image/png": "[encoded data removed]",
      "text/plain": [
       "<PIL.PngImagePlugin.PngImageFile image mode=RGB size=640x360 at 0x228D87B8A90>"
      ]
     },
     "execution_count": 113,
     "metadata": {},
     "output_type": "execute_result"
    }
   ],
   "source": [
    "for i in range(width):\n",
    "    for j in range(height):\n",
    "        draw.point((i,j),(0,0,0))\n",
    "draw.ellipse((100, 100, 150, 200),fill='green',outline=(0,128,0))\n",
    "img\n",
    "\n"
   ]
  },
  {
   "cell_type": "code",
   "execution_count": null,
   "metadata": {},
   "outputs": [],
   "source": []
  },
  {
   "cell_type": "code",
   "execution_count": null,
   "metadata": {},
   "outputs": [],
   "source": []
  }
 ],
 "metadata": {
  "kernelspec": {
   "display_name": "Python 3",
   "language": "python",
   "name": "python3"
  },
  "language_info": {
   "codemirror_mode": {
    "name": "ipython",
    "version": 3
   },
   "file_extension": ".py",
   "mimetype": "text/x-python",
   "name": "python",
   "nbconvert_exporter": "python",
   "pygments_lexer": "ipython3",
   "version": "3.8.5"
  }
 },
 "nbformat": 4,
 "nbformat_minor": 4
}
